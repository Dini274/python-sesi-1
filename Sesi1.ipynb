{
 "cells": [
  {
   "cell_type": "code",
   "execution_count": 5,
   "id": "4984a248",
   "metadata": {},
   "outputs": [
    {
     "name": "stdout",
     "output_type": "stream",
     "text": [
      "<class 'int'>\n"
     ]
    }
   ],
   "source": [
    "print(type(1))"
   ]
  },
  {
   "cell_type": "code",
   "execution_count": 7,
   "id": "37b92903",
   "metadata": {},
   "outputs": [
    {
     "name": "stdout",
     "output_type": "stream",
     "text": [
      "0.00042\n",
      "<class 'float'>\n"
     ]
    }
   ],
   "source": [
    "print(4.2e-4)\n",
    "print(type(4.2e-4))"
   ]
  },
  {
   "cell_type": "markdown",
   "id": "d6c94d07",
   "metadata": {},
   "source": [
    "## string"
   ]
  },
  {
   "cell_type": "code",
   "execution_count": 15,
   "id": "97e87e70",
   "metadata": {},
   "outputs": [
    {
     "data": {
      "text/plain": [
       "'Hello world'"
      ]
     },
     "metadata": {},
     "output_type": "display_data"
    },
    {
     "name": "stdout",
     "output_type": "stream",
     "text": [
      "Hello world\n",
      "<class 'str'>\n",
      "\"Hello world\"\n",
      "can't\n",
      "\n"
     ]
    }
   ],
   "source": [
    "display(\"Hello world\")\n",
    "print('Hello world')\n",
    "print(type(\"apa\"))\n",
    "print('\"Hello world\"')\n",
    "print(\"can't\")\n",
    "print('')"
   ]
  },
  {
   "cell_type": "markdown",
   "id": "a68f62f1",
   "metadata": {},
   "source": [
    "## boolean"
   ]
  },
  {
   "cell_type": "code",
   "execution_count": 18,
   "id": "6e32c6d6",
   "metadata": {},
   "outputs": [
    {
     "name": "stdout",
     "output_type": "stream",
     "text": [
      "<class 'bool'>\n",
      "<class 'bool'>\n",
      "True\n",
      "False\n",
      "1\n",
      "2\n",
      "0\n"
     ]
    }
   ],
   "source": [
    "print(type(True))\n",
    "print(type(False))\n",
    "print(True)\n",
    "print(False)\n",
    "print(True + False)\n",
    "print(True + True)\n",
    "print(False + False)"
   ]
  },
  {
   "cell_type": "markdown",
   "id": "80aa761f",
   "metadata": {},
   "source": [
    "## variabel"
   ]
  },
  {
   "cell_type": "code",
   "execution_count": 22,
   "id": "4cdc0274",
   "metadata": {},
   "outputs": [
    {
     "name": "stdout",
     "output_type": "stream",
     "text": [
      "b\n"
     ]
    },
    {
     "data": {
      "text/plain": [
       "500"
      ]
     },
     "execution_count": 22,
     "metadata": {},
     "output_type": "execute_result"
    }
   ],
   "source": [
    "a = 'b'\n",
    "print(a)\n",
    "\n",
    "a = 500\n",
    "a"
   ]
  },
  {
   "cell_type": "code",
   "execution_count": 31,
   "id": "bb7e1588",
   "metadata": {},
   "outputs": [
    {
     "name": "stdout",
     "output_type": "stream",
     "text": [
      "10\n",
      "10\n",
      "10\n",
      "1\n",
      "2\n"
     ]
    }
   ],
   "source": [
    "q = w = e = 10\n",
    "print(q)\n",
    "print(w)\n",
    "print(e)\n",
    "\n",
    "z, x = 1, 2\n",
    "print(z)\n",
    "print(x)"
   ]
  },
  {
   "cell_type": "code",
   "execution_count": 26,
   "id": "52896d86",
   "metadata": {},
   "outputs": [
    {
     "ename": "NameError",
     "evalue": "name 'Age' is not defined",
     "output_type": "error",
     "traceback": [
      "\u001b[1;31m---------------------------------------------------------------------------\u001b[0m",
      "\u001b[1;31mNameError\u001b[0m                                 Traceback (most recent call last)",
      "Cell \u001b[1;32mIn[26], line 2\u001b[0m\n\u001b[0;32m      1\u001b[0m age \u001b[38;5;241m=\u001b[39m \u001b[38;5;241m25\u001b[39m\n\u001b[1;32m----> 2\u001b[0m Age\n",
      "\u001b[1;31mNameError\u001b[0m: name 'Age' is not defined"
     ]
    }
   ],
   "source": [
    "age = 25\n",
    "Age"
   ]
  },
  {
   "cell_type": "code",
   "execution_count": 29,
   "id": "261de85b",
   "metadata": {},
   "outputs": [
    {
     "data": {
      "text/plain": [
       "'dor'"
      ]
     },
     "execution_count": 29,
     "metadata": {},
     "output_type": "execute_result"
    }
   ],
   "source": [
    "age = 25\n",
    "_shot = 'dor'\n",
    "_shot"
   ]
  },
  {
   "cell_type": "markdown",
   "id": "cc936d37",
   "metadata": {},
   "source": [
    "## Operator and Expression"
   ]
  },
  {
   "cell_type": "code",
   "execution_count": 37,
   "id": "57959e4a",
   "metadata": {},
   "outputs": [
    {
     "name": "stdout",
     "output_type": "stream",
     "text": [
      "7\n",
      "3\n",
      "10\n",
      "2.5\n",
      "2\n",
      "25\n",
      "1\n",
      "17\n"
     ]
    }
   ],
   "source": [
    "a = 5\n",
    "b = 2\n",
    "print(a + b)\n",
    "print(a - b)\n",
    "print(a * b)\n",
    "print(a / b) #pembulatan ke atas (desimal)\n",
    "print(a // b) #ke bawah (integer)\n",
    "print(a ** b) #pangkat\n",
    "print(a % b) #modulo (sisa bagi)\n",
    "\n",
    "print(a + b + 10) #variabel melihat isi"
   ]
  },
  {
   "cell_type": "code",
   "execution_count": 40,
   "id": "20132926",
   "metadata": {},
   "outputs": [
    {
     "name": "stdout",
     "output_type": "stream",
     "text": [
      "False\n",
      "True\n",
      "True\n",
      "True\n",
      "True\n",
      "False\n",
      "False\n"
     ]
    }
   ],
   "source": [
    "#comparison operator\n",
    "\n",
    "print(a == b)\n",
    "c = 2\n",
    "print(c == b) #sama dengan\n",
    "print(a != b)\n",
    "print(a > b)\n",
    "print(a >= b)\n",
    "print(a < b)\n",
    "print(a <= b)"
   ]
  },
  {
   "cell_type": "code",
   "execution_count": 48,
   "id": "69eb8063",
   "metadata": {},
   "outputs": [
    {
     "name": "stdout",
     "output_type": "stream",
     "text": [
      "python\n",
      "pypypypypy\n",
      "Hacktiv8\n",
      "True\n",
      "False\n"
     ]
    }
   ],
   "source": [
    "#string manipulation\n",
    "q = 'py'\n",
    "w = 'thon'\n",
    "print(q+w)\n",
    "print(q * a)\n",
    "print('Hacktiv' + '8')\n",
    "print(q in 'python')\n",
    "print(w in 'pyton')"
   ]
  },
  {
   "cell_type": "code",
   "execution_count": 49,
   "id": "92433a89",
   "metadata": {},
   "outputs": [
    {
     "name": "stdout",
     "output_type": "stream",
     "text": [
      "HACTIVE8\n",
      "hactive8\n",
      "Hactive8\n",
      "hActIVe8\n",
      "Hactive8\n"
     ]
    }
   ],
   "source": [
    "#case conversion\n",
    "h = 'HaCTivE8'\n",
    "print(h.upper())\n",
    "print(h.lower())\n",
    "print(h.capitalize()) #huruf besar diawal\n",
    "print(h.swapcase()) #penukaran\n",
    "print(h.title()) "
   ]
  },
  {
   "cell_type": "markdown",
   "id": "ef0448de",
   "metadata": {},
   "source": [
    "## Python Lists"
   ]
  },
  {
   "cell_type": "code",
   "execution_count": null,
   "id": "4b35ee78",
   "metadata": {},
   "outputs": [],
   "source": [
    "#list, kumpulan objek berurutan\n",
    "#example = [] #empty list\n",
    "#print(example)\n",
    "daftar = [1,2,43, 'a', True, ['b', 300, False], 4.6, 1+1, a, q, w] \n",
    "#print(daftar)\n",
    "#print(type(daftar))\n",
    "\n",
    "#index, urutan item didalam list dimulai index 0\n",
    "#print(daftar[3])\n",
    "#print(daftar[-3])\n",
    "#print(daftar[1 : 6]) #dari 1 sampai 5"
   ]
  },
  {
   "cell_type": "code",
   "execution_count": null,
   "id": "b182b72e",
   "metadata": {},
   "outputs": [],
   "source": [
    "py = ['python', 'KS19', 'assoyy']\n",
    "print(daftar + py)\n",
    "print(py * 3)\n",
    "print(len(daftar))\n",
    "print(max(py))\n",
    "print(min(py))"
   ]
  },
  {
   "cell_type": "code",
   "execution_count": null,
   "id": "8a1ee449",
   "metadata": {},
   "outputs": [],
   "source": [
    "daftar[8] = py\n",
    "print(daftar)"
   ]
  },
  {
   "cell_type": "code",
   "execution_count": null,
   "id": "1d647522",
   "metadata": {},
   "outputs": [],
   "source": []
  },
  {
   "cell_type": "code",
   "execution_count": null,
   "id": "7494a4fd",
   "metadata": {},
   "outputs": [],
   "source": [
    "daftar[8] = py\n",
    "print(daftar)"
   ]
  },
  {
   "cell_type": "code",
   "execution_count": null,
   "id": "7d0dbc8f",
   "metadata": {},
   "outputs": [],
   "source": [
    "daftar[-2] = 'udah malem'\n",
    "print(daftar)"
   ]
  },
  {
   "cell_type": "code",
   "execution_count": null,
   "id": "9d86c7da",
   "metadata": {},
   "outputs": [],
   "source": [
    "#del daftar[3] #penghapusan index 3"
   ]
  },
  {
   "cell_type": "code",
   "execution_count": 83,
   "id": "6bd019b9",
   "metadata": {},
   "outputs": [
    {
     "name": "stdout",
     "output_type": "stream",
     "text": [
      "[1, 2, 43, 4.6, 2, ['python', 'KS19', 'assoyy'], 'udah malem', ['python', 'KS19', 'assoyy']]\n"
     ]
    },
    {
     "data": {
      "text/plain": [
       "[1, 2, 43]"
      ]
     },
     "execution_count": 83,
     "metadata": {},
     "output_type": "execute_result"
    }
   ],
   "source": [
    "print(daftar)\n",
    "daftar[:3] #dariawal sampe ke 3"
   ]
  },
  {
   "cell_type": "markdown",
   "id": "57a73504",
   "metadata": {},
   "source": [
    "## Tuples (tidak bisa diubah)"
   ]
  },
  {
   "cell_type": "code",
   "execution_count": 86,
   "id": "9dd6d5c8",
   "metadata": {},
   "outputs": [
    {
     "name": "stdout",
     "output_type": "stream",
     "text": [
      "<class 'tuple'>\n",
      "(1, 2, 43, 'a', True, ['b', 300, False], 4.6, 2, [6, 7], 'py', 'thon')\n"
     ]
    }
   ],
   "source": [
    "tapel = (1,2,43, 'a', True, ['b', 300, False], 4.6, 1+1, a, q, w)\n",
    "print(type(tapel))\n",
    "print(tapel)"
   ]
  },
  {
   "cell_type": "code",
   "execution_count": 85,
   "id": "3c5a06ce",
   "metadata": {},
   "outputs": [
    {
     "name": "stdout",
     "output_type": "stream",
     "text": [
      "[2, 43, 'a', True]\n"
     ]
    }
   ],
   "source": [
    "print(tapel[1:5])"
   ]
  },
  {
   "cell_type": "code",
   "execution_count": 89,
   "id": "9275d4a6",
   "metadata": {},
   "outputs": [],
   "source": [
    "(z, x, y) = (1, 2, 'a')"
   ]
  },
  {
   "cell_type": "code",
   "execution_count": 90,
   "id": "2b67112a",
   "metadata": {},
   "outputs": [
    {
     "data": {
      "text/plain": [
       "str"
      ]
     },
     "execution_count": 90,
     "metadata": {},
     "output_type": "execute_result"
    }
   ],
   "source": [
    "type(y)"
   ]
  },
  {
   "cell_type": "markdown",
   "id": "015c29f1",
   "metadata": {},
   "source": [
    "## Dictionary {}"
   ]
  },
  {
   "cell_type": "code",
   "execution_count": 96,
   "id": "e1bb0825",
   "metadata": {},
   "outputs": [
    {
     "name": "stdout",
     "output_type": "stream",
     "text": [
      "<class 'dict'>\n",
      "what\n",
      "{'apa': 'what', 'siapa': 'who', 'bagaimana': 'how', 'kapan': 'when'}\n",
      "{'apa': 'what', 'siapa': 'who', 'bagaimana': 'how', 'kapan': 'when'}\n"
     ]
    }
   ],
   "source": [
    "kamus = {'apa':'what', 'siapa':'who', 'bagaimana':'how'}\n",
    "print(type(kamus))\n",
    "print(kamus['apa'])\n",
    "kamus['kapan'] = 'when' #update value\n",
    "print(kamus)\n",
    "#kamus.clear() #menghapus semua\n",
    "print(kamus)"
   ]
  },
  {
   "cell_type": "code",
   "execution_count": 98,
   "id": "428fa22c",
   "metadata": {},
   "outputs": [
    {
     "data": {
      "text/plain": [
       "{'kota': ['madagascar'],\n",
       " 'jalan': 'situbaru',\n",
       " 'nomor rumah': 10,\n",
       " 'pohon': ['cendana', 'mahoni', 'beringin'],\n",
       " 'akses': {'KRL': 'bisa', 'TJ': 'bisa', 'ojol': 'tidak'}}"
      ]
     },
     "execution_count": 98,
     "metadata": {},
     "output_type": "execute_result"
    }
   ],
   "source": [
    "alamat = {}\n",
    "alamat['kota'] = ['madagascar']\n",
    "alamat['jalan'] = 'situbaru'\n",
    "alamat['nomor rumah'] = 10\n",
    "alamat['pohon'] = ['cendana', 'mahoni', 'beringin']\n",
    "alamat['akses'] = {'KRL':'bisa', 'TJ': {'bisa':'Tapi susah'}, 'ojol':'tidak'}\n",
    "alamat"
   ]
  },
  {
   "cell_type": "code",
   "execution_count": 102,
   "id": "fb15f9b5",
   "metadata": {},
   "outputs": [
    {
     "name": "stdout",
     "output_type": "stream",
     "text": [
      "{'kota': ['madagascar'], 'jalan': 'situbaru', 'nomor rumah': 10, 'pohon': ['cendana', 'mahoni', 'beringin'], 'akses': {'KRL': 'bisa', 'TJ': 'bisa', 'ojol': 'tidak'}}\n",
      "mahoni\n"
     ]
    },
    {
     "ename": "TypeError",
     "evalue": "string indices must be integers, not 'str'",
     "output_type": "error",
     "traceback": [
      "\u001b[1;31m---------------------------------------------------------------------------\u001b[0m",
      "\u001b[1;31mTypeError\u001b[0m                                 Traceback (most recent call last)",
      "Cell \u001b[1;32mIn[102], line 3\u001b[0m\n\u001b[0;32m      1\u001b[0m \u001b[38;5;28mprint\u001b[39m(alamat)\n\u001b[0;32m      2\u001b[0m \u001b[38;5;28mprint\u001b[39m(alamat[\u001b[38;5;124m'\u001b[39m\u001b[38;5;124mpohon\u001b[39m\u001b[38;5;124m'\u001b[39m][\u001b[38;5;241m1\u001b[39m])\n\u001b[1;32m----> 3\u001b[0m \u001b[38;5;28mprint\u001b[39m(alamat[\u001b[38;5;124m'\u001b[39m\u001b[38;5;124makses\u001b[39m\u001b[38;5;124m'\u001b[39m][\u001b[38;5;124m'\u001b[39m\u001b[38;5;124mTJ\u001b[39m\u001b[38;5;124m'\u001b[39m][\u001b[38;5;124m'\u001b[39m\u001b[38;5;124mbisa\u001b[39m\u001b[38;5;124m'\u001b[39m])\n\u001b[0;32m      4\u001b[0m \u001b[38;5;28mprint\u001b[39m(alamat\u001b[38;5;241m.\u001b[39mitems())\n\u001b[0;32m      5\u001b[0m \u001b[38;5;28mprint\u001b[39m()\n",
      "\u001b[1;31mTypeError\u001b[0m: string indices must be integers, not 'str'"
     ]
    }
   ],
   "source": [
    "print(alamat)\n",
    "print(alamat['pohon'][1])\n",
    "print(alamat['akses']['TJ']['bisa'])\n",
    "print(alamat.items())\n",
    "print()\n",
    "print(alamat.values)\n",
    "print()\n",
    "print(alamat.keys)"
   ]
  },
  {
   "cell_type": "code",
   "execution_count": 104,
   "id": "5f093463",
   "metadata": {},
   "outputs": [
    {
     "data": {
      "text/plain": [
       "True"
      ]
     },
     "execution_count": 104,
     "metadata": {},
     "output_type": "execute_result"
    }
   ],
   "source": [
    "a = 10\n",
    "b = 2 \n",
    "c = 10\n",
    "\n",
    "d = (\n",
    "    a == b\n",
    "    or \n",
    "    c == a\n",
    "    or a == c\n",
    ")\n",
    "d"
   ]
  },
  {
   "cell_type": "code",
   "execution_count": null,
   "id": "c6836b6f",
   "metadata": {},
   "outputs": [],
   "source": []
  }
 ],
 "metadata": {
  "kernelspec": {
   "display_name": "Python 3 (ipykernel)",
   "language": "python",
   "name": "python3"
  },
  "language_info": {
   "codemirror_mode": {
    "name": "ipython",
    "version": 3
   },
   "file_extension": ".py",
   "mimetype": "text/x-python",
   "name": "python",
   "nbconvert_exporter": "python",
   "pygments_lexer": "ipython3",
   "version": "3.11.4"
  }
 },
 "nbformat": 4,
 "nbformat_minor": 5
}
